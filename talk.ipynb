{
 "cells": [
  {
   "cell_type": "code",
   "execution_count": 1,
   "metadata": {
    "collapsed": false,
    "slideshow": {
     "slide_type": "skip"
    }
   },
   "outputs": [
    {
     "data": {
      "text/html": [
       "<script>\n",
       "code_show=true; \n",
       "function code_toggle() {\n",
       " if (code_show){\n",
       " $('div.input').hide();\n",
       " } else {\n",
       " $('div.input').show();\n",
       " }\n",
       " code_show = !code_show\n",
       "} \n",
       "$( document ).ready(code_toggle);\n",
       "</script>\n",
       "<form action=\"javascript:code_toggle()\"><input type=\"submit\" value=\"Click here to toggle on/off the raw code.\"></form>"
      ],
      "text/plain": [
       "<IPython.core.display.HTML object>"
      ]
     },
     "execution_count": 1,
     "metadata": {},
     "output_type": "execute_result"
    }
   ],
   "source": [
    "from IPython.display import HTML\n",
    "\n",
    "HTML('''<script>\n",
    "code_show=true; \n",
    "function code_toggle() {\n",
    " if (code_show){\n",
    " $('div.input').hide();\n",
    " } else {\n",
    " $('div.input').show();\n",
    " }\n",
    " code_show = !code_show\n",
    "} \n",
    "$( document ).ready(code_toggle);\n",
    "</script>\n",
    "<form action=\"javascript:code_toggle()\"><input type=\"submit\" value=\"Click here to toggle on/off the raw code.\"></form>''') "
   ]
  },
  {
   "cell_type": "markdown",
   "metadata": {
    "slideshow": {
     "slide_type": "slide"
    }
   },
   "source": [
    "# <font color=\"#E56717\">Comparative Effective Research</font>\n",
    "## <font color=\"steelblue\">Using SEER-Medicare to compare the efficacy and cost-effectiveness of different radiation treatment modalities for prostate cancer patients</font>\n",
    "\n",
    "## IDA, 21 April 2017\n",
    "\n",
    "### David Dooling"
   ]
  },
  {
   "cell_type": "code",
   "execution_count": 2,
   "metadata": {
    "collapsed": true,
    "slideshow": {
     "slide_type": "skip"
    }
   },
   "outputs": [],
   "source": [
    "from IPython.display import IFrame"
   ]
  },
  {
   "cell_type": "markdown",
   "metadata": {
    "slideshow": {
     "slide_type": "slide"
    }
   },
   "source": [
    "# <font color=\"#E56717\">The Problem:</font>\n",
    "\n",
    "* <span style=\"font-size:1.3em;\">Two main classes of different types of external radiation beam therapy: $\\gamma$ (photons) or other actual particles (protons in this case, but also research underway using carbon ions)</span>\n",
    "* <span style=\"font-size:1.3em;\">A $\\gamma$-beam relatively inexpensive to generate, but less **controllable**. State of the art is $\\bf{I}$ntensity $\\bf{M}$odulated $\\bf{R}$adiation $\\bf{T}$herapy, but still causes collateral damage</span>\n",
    "* <span style=\"font-size:1.3em;\">$\\bf{P}$roton $\\bf{B}$eam $\\bf{T}$herapy: More expensive to generate the particle beam, but causes much less collateral damage, based on plain physics and engineering principles</span>\n",
    "\n",
    "###  <font color=\"red\">Insurance companies pushing back; denying claims for PBT. Complicated appeal processes. Lack of clinical \"evidence\" given as justification. No RCT supporting the assumed benefits of PBT</font>"
   ]
  },
  {
   "cell_type": "code",
   "execution_count": 12,
   "metadata": {
    "collapsed": false,
    "slideshow": {
     "slide_type": "slide"
    }
   },
   "outputs": [
    {
     "data": {
      "text/html": [
       "\n",
       "        <iframe\n",
       "            width=\"800\"\n",
       "            height=\"400\"\n",
       "            src=\"http://www.bbc.com/news/uk-england-hampshire-29106294\"\n",
       "            frameborder=\"0\"\n",
       "            allowfullscreen\n",
       "        ></iframe>\n",
       "        "
      ],
      "text/plain": [
       "<IPython.lib.display.IFrame at 0x43ea7f0>"
      ]
     },
     "execution_count": 12,
     "metadata": {},
     "output_type": "execute_result"
    }
   ],
   "source": [
    "IFrame('http://www.bbc.com/news/uk-england-hampshire-29106294',width=800,height=400) # emotional appeals are moving, but will not sway insurance companies"
   ]
  },
  {
   "cell_type": "markdown",
   "metadata": {
    "slideshow": {
     "slide_type": "subslide"
    }
   },
   "source": [
    "## <font color=\"#E56717\">Emotional appeals will not sway insurance companies. No RCT to point to; most practitioners will not knowingly give one arm of the study what they feel to be inferior treatment.</font>\n",
    "\n",
    "# <font color=\"steelblue\">Observational studies: Use the SEER-Medicare database</font>"
   ]
  },
  {
   "cell_type": "markdown",
   "metadata": {
    "slideshow": {
     "slide_type": "slide"
    }
   },
   "source": [
    "# <font color=\"#E56717\">Identify all the patients in the SEER-MEdicare data who have received PBT</font>\n",
    "\n",
    "<span style=\"font-size:1.7em;\">Can be done via $\\bf{H}$ealthcare $\\bf{C}$ommon $\\bf{P}$ocedure $\\bf{C}$odes:</span>\n",
    "\n",
    "* <span style=\"font-size:1.7em;\">75520 - Proton trmt simple w/o comp</span>\n",
    "* <span style=\"font-size:1.7em;\">77522 - Proton trmt simple w/comp</span>\n",
    "* <span style=\"font-size:1.7em;\">77523 - Proton trmt intermediate</span>\n",
    "* <span style=\"font-size:1.7em;\">77525 - Proton treatment complex</span>\n",
    "\n",
    "# <font color=\"#E56717\">Likewise identify all patients who have received IMRT</font>\n",
    "\n",
    "* <span style=\"font-size:1.7em;\">77418 - Intensity modulated treatment delivery</span>"
   ]
  },
  {
   "cell_type": "markdown",
   "metadata": {
    "slideshow": {
     "slide_type": "slide"
    }
   },
   "source": [
    "# <font color=\"steelblue\">Then we need to perform patient \"matching\" in order to make the claim that any observed differences (survival, complication rate, total cost) are due to the different treatment regimens, and not to other factors or attributes of the patients that may differ between the PBT group and the IMRT group</font>\n",
    "\n",
    "<span style=\"font-size:1.7em;\">A simple example to illustrate the need for matching, and how it increases your ability to draw conclusions from data:</font>"
   ]
  },
  {
   "cell_type": "markdown",
   "metadata": {
    "slideshow": {
     "slide_type": "slide"
    }
   },
   "source": [
    "<span style=\"font-size:1.7em;\">Imagine a rental car agency that suspects that gasoline B get better miles per gallon than does gasoline A. The effect is $\\bf{real}$, in the sense that if they use gasoline A for all cars one month at one location, and also use gasoline B at the sister location, gasoline B performs better</span>\n",
    "\n",
    "<span style=\"font-size:1.7em;\">But if you apply a standard unpaired t-test to see if this effect may be due to chance, you cannot rule out that it is infact due to chance:</span>"
   ]
  },
  {
   "cell_type": "code",
   "execution_count": 14,
   "metadata": {
    "collapsed": true,
    "slideshow": {
     "slide_type": "skip"
    }
   },
   "outputs": [],
   "source": [
    "import pandas as pd\n",
    "import qgrid\n",
    "qgrid.nbinstall(overwrite=True)  # copies javascript dependencies to your /nbextensions folder\n",
    "qgrid.set_defaults(remote_js=True, show_toolbar=True,\n",
    "                  grid_options = {'enableColumnReorder': True,\n",
    "                                 'defaultColumnWidth': 250})\n",
    "\n",
    "gas_a_list =[27.01, 20, 23.41, 25.22, 30.11,\n",
    "             25.55, 22.23, 19.78, 33.45, 25.22]\n",
    "\n",
    "gas_b_list = [26.95, 20.44, 25.05, 26.32, 29.56,\n",
    "             26.60, 22.93, 20.23, 33.95, 26.01]\n",
    "\n",
    "dfgas = pd.DataFrame({'gas_a_mpg': gas_a_list,\n",
    "                         'gas_b_mpg': gas_b_list})"
   ]
  },
  {
   "cell_type": "code",
   "execution_count": 15,
   "metadata": {
    "collapsed": false,
    "slideshow": {
     "slide_type": "slide"
    }
   },
   "outputs": [
    {
     "data": {
      "application/vnd.jupyter.widget-view+json": {
       "model_id": "2b53ccf5b63743a29d78034590dbf9e8"
      }
     },
     "metadata": {},
     "output_type": "display_data"
    },
    {
     "data": {
      "application/vnd.jupyter.widget-view+json": {
       "model_id": "b2d50ebc604141079347e7353702e36b"
      }
     },
     "metadata": {},
     "output_type": "display_data"
    },
    {
     "data": {
      "text/html": [
       "<script type=\"text/javascript\">\n",
       "if ($(\"#dg-css\").length == 0){\n",
       "    $(\"head\").append([\n",
       "        \"<link href='https://cdn.rawgit.com/quantopian/qgrid/master/qgrid/qgridjs//lib/slick.grid.css' rel='stylesheet'>\",\n",
       "        \"<link href='https://cdn.rawgit.com/quantopian/qgrid/master/qgrid/qgridjs//lib/slick-default-theme.css' rel='stylesheet'>\",\n",
       "        \"<link href='http://cdnjs.cloudflare.com/ajax/libs/jqueryui/1.10.4/css/jquery-ui.min.css' rel='stylesheet'>\",\n",
       "        \"<link id='dg-css' href='https://cdn.rawgit.com/quantopian/qgrid/master/qgrid/qgridjs//qgrid.css' rel='stylesheet'>\"\n",
       "    ]);\n",
       "}\n",
       "</script>\n",
       "<div class='q-grid-container'>\n",
       "<div id='8dd36820-515b-4777-8f5b-a0e303c512e0' class='q-grid'></div>\n",
       "</div>"
      ]
     },
     "metadata": {},
     "output_type": "display_data"
    },
    {
     "data": {
      "application/javascript": [
       "var path_dictionary = {\n",
       "    jquery_drag: \"https://cdn.rawgit.com/quantopian/qgrid/master/qgrid/qgridjs//lib/jquery.event.drag-2.2\",\n",
       "    slick_core: \"https://cdn.rawgit.com/quantopian/qgrid/master/qgrid/qgridjs//lib/slick.core.2.2\",\n",
       "    slick_data_view: \"https://cdn.rawgit.com/quantopian/qgrid/master/qgrid/qgridjs//lib/slick.dataview.2.2\",\n",
       "    slick_check_box_column: \"https://cdn.rawgit.com/quantopian/qgrid/master/qgrid/qgridjs//lib/slick.checkboxselectcolumn\",\n",
       "    slick_row_selection_model: \"https://cdn.rawgit.com/quantopian/qgrid/master/qgrid/qgridjs//lib/slick.rowselectionmodel\",\n",
       "    slick_grid: \"https://cdn.rawgit.com/quantopian/qgrid/master/qgrid/qgridjs//lib/slick.grid.2.2\",\n",
       "    data_grid: \"https://cdn.rawgit.com/quantopian/qgrid/master/qgrid/qgridjs//qgrid\",\n",
       "    date_filter: \"https://cdn.rawgit.com/quantopian/qgrid/master/qgrid/qgridjs//qgrid.datefilter\",\n",
       "    slider_filter: \"https://cdn.rawgit.com/quantopian/qgrid/master/qgrid/qgridjs//qgrid.sliderfilter\",\n",
       "    text_filter: \"https://cdn.rawgit.com/quantopian/qgrid/master/qgrid/qgridjs//qgrid.textfilter\",\n",
       "    filter_base:  \"https://cdn.rawgit.com/quantopian/qgrid/master/qgrid/qgridjs//qgrid.filterbase\",\n",
       "    handlebars: \"https://cdnjs.cloudflare.com/ajax/libs/handlebars.js/2.0.0/handlebars.min\"\n",
       "};\n",
       "\n",
       "var existing_config = require.s.contexts._.config;\n",
       "if (!existing_config.paths['underscore']){\n",
       "    path_dictionary['underscore'] = \"https://cdnjs.cloudflare.com/ajax/libs/underscore.js/1.7.0/underscore-min\";\n",
       "}\n",
       "\n",
       "if (!existing_config.paths['moment']){\n",
       "    path_dictionary['moment'] = \"https://cdnjs.cloudflare.com/ajax/libs/moment.js/2.8.3/moment.min\";\n",
       "}\n",
       "\n",
       "if (!existing_config.paths['jqueryui']){\n",
       "    path_dictionary['jqueryui'] = \"https://ajax.googleapis.com/ajax/libs/jqueryui/1.11.1/jquery-ui.min\";\n",
       "}\n",
       "\n",
       "require.config({\n",
       "    paths: path_dictionary\n",
       "});\n",
       "\n",
       "if (typeof jQuery === 'function') {\n",
       "    define('jquery', function() { return jQuery; });\n",
       "}\n",
       "\n",
       "require([\n",
       "    'jquery',\n",
       "    'jquery_drag',\n",
       "    'slick_core',\n",
       "    'slick_data_view'\n",
       "],\n",
       "function($){\n",
       "    $('#8dd36820-515b-4777-8f5b-a0e303c512e0').closest('.rendered_html').removeClass('rendered_html');\n",
       "    require([\n",
       "      'slick_check_box_column',\n",
       "      'slick_row_selection_model',\n",
       "      'slick_grid'\n",
       "    ], function(){\n",
       "        require([\"data_grid\"], function(dgrid){\n",
       "            var grid = new dgrid.QGrid('#8dd36820-515b-4777-8f5b-a0e303c512e0', [{\"Index\":0,\"gas_a_mpg\":27.01,\"gas_b_mpg\":26.95},{\"Index\":1,\"gas_a_mpg\":20.0,\"gas_b_mpg\":20.44},{\"Index\":2,\"gas_a_mpg\":23.41,\"gas_b_mpg\":25.05},{\"Index\":3,\"gas_a_mpg\":25.22,\"gas_b_mpg\":26.32},{\"Index\":4,\"gas_a_mpg\":30.11,\"gas_b_mpg\":29.56},{\"Index\":5,\"gas_a_mpg\":25.55,\"gas_b_mpg\":26.6},{\"Index\":6,\"gas_a_mpg\":22.23,\"gas_b_mpg\":22.93},{\"Index\":7,\"gas_a_mpg\":19.78,\"gas_b_mpg\":20.23},{\"Index\":8,\"gas_a_mpg\":33.45,\"gas_b_mpg\":33.95},{\"Index\":9,\"gas_a_mpg\":25.22,\"gas_b_mpg\":26.01}], [{\"field\": \"Index\", \"type\": \"Integer\"}, {\"field\": \"gas_a_mpg\", \"type\": \"Float\"}, {\"field\": \"gas_b_mpg\", \"type\": \"Float\"}]);\n",
       "            grid.initialize_slick_grid({\"defaultColumnWidth\": 250, \"enableColumnReorder\": true, \"editable\": false});\n",
       "        });\n",
       "    });\n",
       "});\n"
      ]
     },
     "metadata": {},
     "output_type": "display_data"
    }
   ],
   "source": [
    "qgrid.show_grid(dfgas)"
   ]
  },
  {
   "cell_type": "code",
   "execution_count": null,
   "metadata": {
    "collapsed": true
   },
   "outputs": [],
   "source": []
  }
 ],
 "metadata": {
  "celltoolbar": "Slideshow",
  "kernelspec": {
   "display_name": "Python 3",
   "language": "python",
   "name": "python3"
  },
  "language_info": {
   "codemirror_mode": {
    "name": "ipython",
    "version": 3
   },
   "file_extension": ".py",
   "mimetype": "text/x-python",
   "name": "python",
   "nbconvert_exporter": "python",
   "pygments_lexer": "ipython3",
   "version": "3.5.1"
  }
 },
 "nbformat": 4,
 "nbformat_minor": 2
}
