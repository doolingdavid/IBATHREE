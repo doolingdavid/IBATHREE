{
 "cells": [
  {
   "cell_type": "code",
   "execution_count": 1,
   "metadata": {
    "collapsed": false,
    "slideshow": {
     "slide_type": "skip"
    }
   },
   "outputs": [
    {
     "data": {
      "text/html": [
       "<script>\n",
       "code_show=true; \n",
       "function code_toggle() {\n",
       " if (code_show){\n",
       " $('div.input').hide();\n",
       " } else {\n",
       " $('div.input').show();\n",
       " }\n",
       " code_show = !code_show\n",
       "} \n",
       "$( document ).ready(code_toggle);\n",
       "</script>\n",
       "<form action=\"javascript:code_toggle()\"><input type=\"submit\" value=\"Click here to toggle on/off the raw code.\"></form>"
      ],
      "text/plain": [
       "<IPython.core.display.HTML object>"
      ]
     },
     "execution_count": 1,
     "metadata": {},
     "output_type": "execute_result"
    }
   ],
   "source": [
    "from IPython.display import HTML\n",
    "\n",
    "HTML('''<script>\n",
    "code_show=true; \n",
    "function code_toggle() {\n",
    " if (code_show){\n",
    " $('div.input').hide();\n",
    " } else {\n",
    " $('div.input').show();\n",
    " }\n",
    " code_show = !code_show\n",
    "} \n",
    "$( document ).ready(code_toggle);\n",
    "</script>\n",
    "<form action=\"javascript:code_toggle()\"><input type=\"submit\" value=\"Click here to toggle on/off the raw code.\"></form>''') "
   ]
  },
  {
   "cell_type": "markdown",
   "metadata": {
    "slideshow": {
     "slide_type": "slide"
    }
   },
   "source": [
    "# <font color=\"#E56717\">Comparative Effective Research</font>\n",
    "## <font color=\"steelblue\">Using SEER-Medicare to compare the efficacy and cost-effectiveness of different radiation treatment modalities for prostate cancer patients</font>\n",
    "\n",
    "## IDA, 21 April 2017\n",
    "\n",
    "### David Dooling"
   ]
  },
  {
   "cell_type": "code",
   "execution_count": 2,
   "metadata": {
    "collapsed": true,
    "slideshow": {
     "slide_type": "skip"
    }
   },
   "outputs": [],
   "source": [
    "from IPython.display import IFrame"
   ]
  },
  {
   "cell_type": "markdown",
   "metadata": {
    "slideshow": {
     "slide_type": "slide"
    }
   },
   "source": [
    "# <font color=\"#E56717\">The Problem:</font>\n",
    "\n",
    "* <span style=\"font-size:1.3em;\">Two main classes of different types of external radiation beam therapy: $\\gamma$ (photons) or other actual particles (protons in this case, but also research underway using carbon ions)</span>\n",
    "* <span style=\"font-size:1.3em;\">A $\\gamma$-beam relatively inexpensive to generate, but less **controllable**. State of the art is $\\bf{I}$ntensity $\\bf{M}$odulated $\\bf{R}$adiation $\\bf{T}$herapy, but still causes collateral damage</span>\n",
    "* <span style=\"font-size:1.3em;\">$\\bf{P}$roton $\\bf{B}$eam $\\bf{T}$herapy: More expensive to generate the particle beam, but causes much less collateral damage, based on plain physics and engineering principles</span>\n",
    "\n",
    "###  <font color=\"red\">Insurance companies pushing back; denying claims for PBT. Complicated appeal processes. Lack of clinical \"evidence\" given as justification. No RCT supporting the assumed benefits of PBT</font>"
   ]
  },
  {
   "cell_type": "code",
   "execution_count": 16,
   "metadata": {
    "collapsed": false,
    "slideshow": {
     "slide_type": "slide"
    }
   },
   "outputs": [
    {
     "data": {
      "text/html": [
       "\n",
       "        <iframe\n",
       "            width=\"800\"\n",
       "            height=\"400\"\n",
       "            src=\"https://www.bbc.com/news/uk-england-hampshire-29106294\"\n",
       "            frameborder=\"0\"\n",
       "            allowfullscreen\n",
       "        ></iframe>\n",
       "        "
      ],
      "text/plain": [
       "<IPython.lib.display.IFrame at 0x8921390>"
      ]
     },
     "execution_count": 16,
     "metadata": {},
     "output_type": "execute_result"
    }
   ],
   "source": [
    "IFrame('https://www.bbc.com/news/uk-england-hampshire-29106294',width=800,height=400) # emotional appeals are moving, but will not sway insurance companies"
   ]
  },
  {
   "cell_type": "markdown",
   "metadata": {
    "slideshow": {
     "slide_type": "subslide"
    }
   },
   "source": [
    "## <font color=\"#E56717\">Emotional appeals will not sway insurance companies. No RCT to point to; most practitioners will not knowingly give one arm of the study what they feel to be inferior treatment.</font>\n",
    "\n",
    "# <font color=\"steelblue\">Observational studies: Use the SEER-Medicare database</font>"
   ]
  },
  {
   "cell_type": "markdown",
   "metadata": {
    "slideshow": {
     "slide_type": "slide"
    }
   },
   "source": [
    "# <font color=\"#E56717\">Identify all the patients in the SEER-MEdicare data who have received PBT</font>\n",
    "\n",
    "<span style=\"font-size:1.7em;\">Can be done via $\\bf{H}$ealthcare $\\bf{C}$ommon $\\bf{P}$ocedure $\\bf{C}$odes:</span>\n",
    "\n",
    "* <span style=\"font-size:1.7em;\">75520 - Proton trmt simple w/o comp</span>\n",
    "* <span style=\"font-size:1.7em;\">77522 - Proton trmt simple w/comp</span>\n",
    "* <span style=\"font-size:1.7em;\">77523 - Proton trmt intermediate</span>\n",
    "* <span style=\"font-size:1.7em;\">77525 - Proton treatment complex</span>\n",
    "\n",
    "# <font color=\"#E56717\">Likewise identify all patients who have received IMRT</font>\n",
    "\n",
    "* <span style=\"font-size:1.7em;\">77418 - Intensity modulated treatment delivery</span>"
   ]
  },
  {
   "cell_type": "markdown",
   "metadata": {
    "slideshow": {
     "slide_type": "slide"
    }
   },
   "source": [
    "# <font color=\"steelblue\">Then we need to perform patient \"matching\" in order to make the claim that any observed differences (survival, complication rate, total cost) are due to the different treatment regimens, and not to other factors or attributes of the patients that may differ between the PBT group and the IMRT group</font>\n",
    "\n",
    "<span style=\"font-size:1.7em;\">A simple example to illustrate the need for matching, and how it increases your ability to draw conclusions from data:</font>"
   ]
  },
  {
   "cell_type": "markdown",
   "metadata": {
    "slideshow": {
     "slide_type": "slide"
    }
   },
   "source": [
    "<span style=\"font-size:1.7em;\">Imagine a rental car agency that suspects that gasoline B get better miles per gallon than does gasoline A. The effect is $\\bf{real}$, in the sense that if they use gasoline A for all cars one month at one location, and also use gasoline B at the sister location, gasoline B performs better</span>\n",
    "\n",
    "<span style=\"font-size:1.7em;\">But if you apply a standard unpaired t-test to see if this effect may be due to chance, you cannot rule out that it is infact due to chance:</span>"
   ]
  },
  {
   "cell_type": "code",
   "execution_count": 14,
   "metadata": {
    "collapsed": true,
    "slideshow": {
     "slide_type": "skip"
    }
   },
   "outputs": [],
   "source": [
    "import pandas as pd\n",
    "import qgrid\n",
    "qgrid.nbinstall(overwrite=True)  # copies javascript dependencies to your /nbextensions folder\n",
    "qgrid.set_defaults(remote_js=True, show_toolbar=True,\n",
    "                  grid_options = {'enableColumnReorder': True,\n",
    "                                 'defaultColumnWidth': 250})\n",
    "\n",
    "gas_a_list =[27.01, 20, 23.41, 25.22, 30.11,\n",
    "             25.55, 22.23, 19.78, 33.45, 25.22]\n",
    "\n",
    "gas_b_list = [26.95, 20.44, 25.05, 26.32, 29.56,\n",
    "             26.60, 22.93, 20.23, 33.95, 26.01]\n",
    "\n",
    "dfgas = pd.DataFrame({'gas_a_mpg': gas_a_list,\n",
    "                         'gas_b_mpg': gas_b_list})"
   ]
  },
  {
   "cell_type": "code",
   "execution_count": 17,
   "metadata": {
    "collapsed": false,
    "slideshow": {
     "slide_type": "slide"
    }
   },
   "outputs": [
    {
     "data": {
      "text/html": [
       "<div>\n",
       "<table border=\"1\" class=\"dataframe\">\n",
       "  <thead>\n",
       "    <tr style=\"text-align: right;\">\n",
       "      <th></th>\n",
       "      <th>gas_a_mpg</th>\n",
       "      <th>gas_b_mpg</th>\n",
       "    </tr>\n",
       "  </thead>\n",
       "  <tbody>\n",
       "    <tr>\n",
       "      <th>0</th>\n",
       "      <td>27.01</td>\n",
       "      <td>26.95</td>\n",
       "    </tr>\n",
       "    <tr>\n",
       "      <th>1</th>\n",
       "      <td>20.00</td>\n",
       "      <td>20.44</td>\n",
       "    </tr>\n",
       "    <tr>\n",
       "      <th>2</th>\n",
       "      <td>23.41</td>\n",
       "      <td>25.05</td>\n",
       "    </tr>\n",
       "    <tr>\n",
       "      <th>3</th>\n",
       "      <td>25.22</td>\n",
       "      <td>26.32</td>\n",
       "    </tr>\n",
       "    <tr>\n",
       "      <th>4</th>\n",
       "      <td>30.11</td>\n",
       "      <td>29.56</td>\n",
       "    </tr>\n",
       "    <tr>\n",
       "      <th>5</th>\n",
       "      <td>25.55</td>\n",
       "      <td>26.60</td>\n",
       "    </tr>\n",
       "    <tr>\n",
       "      <th>6</th>\n",
       "      <td>22.23</td>\n",
       "      <td>22.93</td>\n",
       "    </tr>\n",
       "    <tr>\n",
       "      <th>7</th>\n",
       "      <td>19.78</td>\n",
       "      <td>20.23</td>\n",
       "    </tr>\n",
       "    <tr>\n",
       "      <th>8</th>\n",
       "      <td>33.45</td>\n",
       "      <td>33.95</td>\n",
       "    </tr>\n",
       "    <tr>\n",
       "      <th>9</th>\n",
       "      <td>25.22</td>\n",
       "      <td>26.01</td>\n",
       "    </tr>\n",
       "  </tbody>\n",
       "</table>\n",
       "</div>"
      ],
      "text/plain": [
       "   gas_a_mpg  gas_b_mpg\n",
       "0      27.01      26.95\n",
       "1      20.00      20.44\n",
       "2      23.41      25.05\n",
       "3      25.22      26.32\n",
       "4      30.11      29.56\n",
       "5      25.55      26.60\n",
       "6      22.23      22.93\n",
       "7      19.78      20.23\n",
       "8      33.45      33.95\n",
       "9      25.22      26.01"
      ]
     },
     "execution_count": 17,
     "metadata": {},
     "output_type": "execute_result"
    }
   ],
   "source": [
    "dfgas"
   ]
  },
  {
   "cell_type": "code",
   "execution_count": null,
   "metadata": {
    "collapsed": true
   },
   "outputs": [],
   "source": []
  }
 ],
 "metadata": {
  "celltoolbar": "Slideshow",
  "kernelspec": {
   "display_name": "Python 3",
   "language": "python",
   "name": "python3"
  },
  "language_info": {
   "codemirror_mode": {
    "name": "ipython",
    "version": 3
   },
   "file_extension": ".py",
   "mimetype": "text/x-python",
   "name": "python",
   "nbconvert_exporter": "python",
   "pygments_lexer": "ipython3",
   "version": "3.5.1"
  }
 },
 "nbformat": 4,
 "nbformat_minor": 2
}
