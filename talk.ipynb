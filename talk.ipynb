{
 "cells": [
  {
   "cell_type": "code",
   "execution_count": 1,
   "metadata": {
    "collapsed": false,
    "slideshow": {
     "slide_type": "skip"
    }
   },
   "outputs": [
    {
     "data": {
      "text/html": [
       "<script>\n",
       "code_show=true; \n",
       "function code_toggle() {\n",
       " if (code_show){\n",
       " $('div.input').hide();\n",
       " } else {\n",
       " $('div.input').show();\n",
       " }\n",
       " code_show = !code_show\n",
       "} \n",
       "$( document ).ready(code_toggle);\n",
       "</script>\n",
       "<form action=\"javascript:code_toggle()\"><input type=\"submit\" value=\"Click here to toggle on/off the raw code.\"></form>"
      ],
      "text/plain": [
       "<IPython.core.display.HTML object>"
      ]
     },
     "execution_count": 1,
     "metadata": {},
     "output_type": "execute_result"
    }
   ],
   "source": [
    "from IPython.display import HTML\n",
    "\n",
    "HTML('''<script>\n",
    "code_show=true; \n",
    "function code_toggle() {\n",
    " if (code_show){\n",
    " $('div.input').hide();\n",
    " } else {\n",
    " $('div.input').show();\n",
    " }\n",
    " code_show = !code_show\n",
    "} \n",
    "$( document ).ready(code_toggle);\n",
    "</script>\n",
    "<form action=\"javascript:code_toggle()\"><input type=\"submit\" value=\"Click here to toggle on/off the raw code.\"></form>''') "
   ]
  },
  {
   "cell_type": "markdown",
   "metadata": {
    "slideshow": {
     "slide_type": "slide"
    }
   },
   "source": [
    "# <font color=\"#E56717\">Comparative Effective Research</font>\n",
    "## <font color=\"steelblue\">Using SEER-Medicare to compare the efficacy and cost-effectiveness of different radiation treatment modalities for prostate cancer patients</font>\n",
    "\n",
    "## IDA, 21 April 2017\n",
    "\n",
    "### David Dooling"
   ]
  },
  {
   "cell_type": "code",
   "execution_count": 2,
   "metadata": {
    "collapsed": true,
    "slideshow": {
     "slide_type": "skip"
    }
   },
   "outputs": [],
   "source": [
    "from IPython.display import IFrame"
   ]
  },
  {
   "cell_type": "markdown",
   "metadata": {
    "slideshow": {
     "slide_type": "slide"
    }
   },
   "source": [
    "# <font color=\"#E56717\">The Problem:</font>\n",
    "\n",
    "* <span style=\"font-size:1.3em;\">Two main classes of different types of external radiation beam therapy: $\\gamma$ (photons) or other actual particles (protons in this case, but also research underway using carbon ions)</span>\n",
    "* <span style=\"font-size:1.3em;\">A $\\gamma$-beam relatively inexpensive to generate, but less **controllable**. State of the art is $\\bf{I}$ntensity $\\bf{M}$odulated $\\bf{R}$adiation $\\bf{T}$herapy, but still causes collateral damage</span>\n",
    "* <span style=\"font-size:1.3em;\">$\\bf{P}$roton $\\bf{B}$eam $\\bf{T}$herapy: More expensive to generate the particle beam, but causes much less collateral damage, based on plain physics and engineering principles</span>\n",
    "\n",
    "###  <font color=\"red\">Insurance companies pushing back; denying claims for PBT. Complicated appeal processes. Lack of clinical \"evidence\" given as justification. No RCT supporting the assumed benefits of PBT</font>"
   ]
  },
  {
   "cell_type": "code",
   "execution_count": 12,
   "metadata": {
    "collapsed": false,
    "slideshow": {
     "slide_type": "slide"
    }
   },
   "outputs": [
    {
     "data": {
      "text/html": [
       "\n",
       "        <iframe\n",
       "            width=\"800\"\n",
       "            height=\"400\"\n",
       "            src=\"http://www.bbc.com/news/uk-england-hampshire-29106294\"\n",
       "            frameborder=\"0\"\n",
       "            allowfullscreen\n",
       "        ></iframe>\n",
       "        "
      ],
      "text/plain": [
       "<IPython.lib.display.IFrame at 0x43ea7f0>"
      ]
     },
     "execution_count": 12,
     "metadata": {},
     "output_type": "execute_result"
    }
   ],
   "source": [
    "IFrame('http://www.bbc.com/news/uk-england-hampshire-29106294',width=800,height=400) # emotional appeals are moving, but will not sway insurance companies"
   ]
  },
  {
   "cell_type": "markdown",
   "metadata": {
    "slideshow": {
     "slide_type": "subslide"
    }
   },
   "source": [
    "## <font color=\"#E56717\">Emotional appeals will not sway insurance companies. No RCT to point to; most practitioners will not knowingly give one arm of the study what they feel to be inferior treatment.</font>\n",
    "\n",
    "# <font color=\"steelblue\">Observational studies: Use the SEER-Medicare database</font>"
   ]
  },
  {
   "cell_type": "markdown",
   "metadata": {
    "slideshow": {
     "slide_type": "slide"
    }
   },
   "source": [
    "# <font color=\"#E56717\">Identify all the patients in the SEER-MEdicare data who have received PBT</font>\n",
    "\n",
    "<span style=\"font-size:1.7em;\">Can be done via $\\bf{H}$ealthcare $\\bf{C}$ommon $\\bf{P}$ocedure $\\bf{C}$odes:</span>\n",
    "\n",
    "* <span style=\"font-size:1.7em;\">75520 - Proton trmt simple w/o comp</span>\n",
    "* <span style=\"font-size:1.7em;\">77522 - Proton trmt simple w/comp</span>\n",
    "* <span style=\"font-size:1.7em;\">77523 - Proton trmt intermediate</span>\n",
    "* <span style=\"font-size:1.7em;\">77525 - Proton treatment complex</span>\n",
    "\n",
    "# <font color=\"#E56717\">Likewise identify all patients who have received IMRT</font>\n",
    "\n",
    "* <span style=\"font-size:1.7em;\">77418 - Intensity modulated treatment delivery</span>"
   ]
  },
  {
   "cell_type": "code",
   "execution_count": null,
   "metadata": {
    "collapsed": true
   },
   "outputs": [],
   "source": []
  }
 ],
 "metadata": {
  "celltoolbar": "Slideshow",
  "kernelspec": {
   "display_name": "Python 3",
   "language": "python",
   "name": "python3"
  },
  "language_info": {
   "codemirror_mode": {
    "name": "ipython",
    "version": 3
   },
   "file_extension": ".py",
   "mimetype": "text/x-python",
   "name": "python",
   "nbconvert_exporter": "python",
   "pygments_lexer": "ipython3",
   "version": "3.5.1"
  }
 },
 "nbformat": 4,
 "nbformat_minor": 2
}
